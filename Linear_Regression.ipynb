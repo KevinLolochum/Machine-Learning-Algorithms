{
  "nbformat": 4,
  "nbformat_minor": 0,
  "metadata": {
    "colab": {
      "name": "Linear Regression",
      "provenance": [],
      "authorship_tag": "ABX9TyONGaQ+IupOD4evnengt74W",
      "include_colab_link": true
    },
    "kernelspec": {
      "name": "python3",
      "display_name": "Python 3"
    }
  },
  "cells": [
    {
      "cell_type": "markdown",
      "metadata": {
        "id": "view-in-github",
        "colab_type": "text"
      },
      "source": [
        "<a href=\"https://colab.research.google.com/github/KevinLolochum/Top-Ten-Machine-Learning-Cheatsheet/blob/main/Linear_Regression.ipynb\" target=\"_parent\"><img src=\"https://colab.research.google.com/assets/colab-badge.svg\" alt=\"Open In Colab\"/></a>"
      ]
    },
    {
      "cell_type": "markdown",
      "metadata": {
        "id": "kIV7EafhDtBu"
      },
      "source": [
        "## 1. Linear Regression\n",
        "\n",
        "> Layman:\n",
        "\n",
        "Imagine you are very successful and all you do is go around buying houses. I suppose you’d consider things like living space, height of ceiling and size of the garden before you buy a house. You can put a number on all these things that will directly affect the price you are willing to pay for the house. Given such data and historical house prices, a linear regression model can predict the price that you should expect to pay.\n",
        "\n",
        "> Hiring manager:\n",
        "\n",
        "Linear regression is a supervised learning algorithm that assumes inputs and outputs are linearly related. It takes numerical inputs (integers and floating points) and returns a single value (int or float) as the output.\n",
        "\n",
        "> Programmer:\n",
        "* This is is the simplest model and can be thought simply as Y = C + MX which is a line through data that minimizes the sum of ordinary least squares (OLS), where X is the predictor variable and Y is the target. There can be more than one Xs \n",
        "* Given C and M that minimize OLS we can predict Y using X/Xs\n",
        "*  I will not go into this model in-depth because I assume almost every programmer knows how it works.\n",
        "* Here is the Sklearn model."
      ]
    }
  ]
}