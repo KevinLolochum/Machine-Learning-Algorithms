{
  "nbformat": 4,
  "nbformat_minor": 0,
  "metadata": {
    "colab": {
      "name": "Logistic Regression",
      "provenance": [],
      "authorship_tag": "ABX9TyO69nrRR88JF3JDV+gK+StN",
      "include_colab_link": true
    },
    "kernelspec": {
      "name": "python3",
      "display_name": "Python 3"
    }
  },
  "cells": [
    {
      "cell_type": "markdown",
      "metadata": {
        "id": "view-in-github",
        "colab_type": "text"
      },
      "source": [
        "<a href=\"https://colab.research.google.com/github/KevinLolochum/Top-Ten-Machine-Learning-Cheatsheet/blob/main/Logistic_Regression.ipynb\" target=\"_parent\"><img src=\"https://colab.research.google.com/assets/colab-badge.svg\" alt=\"Open In Colab\"/></a>"
      ]
    },
    {
      "cell_type": "markdown",
      "metadata": {
        "id": "kIV7EafhDtBu"
      },
      "source": [
        "## 2. Logistic Regression\n",
        "\n",
        "> Layman:\n",
        "\n",
        "Imagine that you work for a hospital that is running short on blood. You want to call people in the neghborhood to donate blood to the hospital's blood bank. You are only allowed to make twenty calls so they better count. Before you call anyone you might want to know what is the likelyhood that they will donate. You can determine this by using information like, the donars distance from hospital, number of times they have donated in the past, political affiliations etc. Logistic regression can help you calculate this likelyhood.\n",
        "\n",
        "> Hiring manager:\n",
        "\n",
        "Logistic regression is a supervised learning model used to model the probability of a positive outcome. It takes inputs and predicts the probability of an outcome using maximum likelihood estimation (MLE). When the probability is above a certain threshold it is classified as positive and negative otherwise.\n",
        "\n",
        "> Programmer:\n",
        "* Logit or log odds (p/(1-p)) is function that the probability of a class with a range of ± ∞. The logistic function 1/(1-exp(-y-hat)) an inverse of the logits can ensure that the sum of probabilities of predictor variables are between 0 and 1.\n",
        "* To train the logistic function is applied on the data and maximum likelihood estimation will try to determine the model that produced the observed data.\n",
        "* This is the model we use for predictions. SKlearn code is below"
      ]
    }
  ]
}