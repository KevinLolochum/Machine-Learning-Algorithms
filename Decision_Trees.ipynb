{
  "nbformat": 4,
  "nbformat_minor": 0,
  "metadata": {
    "colab": {
      "name": "Decision Trees",
      "provenance": [],
      "authorship_tag": "ABX9TyP91Taazd1/tmXcOunuT/BK",
      "include_colab_link": true
    },
    "kernelspec": {
      "name": "python3",
      "display_name": "Python 3"
    }
  },
  "cells": [
    {
      "cell_type": "markdown",
      "metadata": {
        "id": "view-in-github",
        "colab_type": "text"
      },
      "source": [
        "<a href=\"https://colab.research.google.com/github/KevinLolochum/Top-Ten-Machine-Learning-Cheatsheet/blob/main/Decision_Trees.ipynb\" target=\"_parent\"><img src=\"https://colab.research.google.com/assets/colab-badge.svg\" alt=\"Open In Colab\"/></a>"
      ]
    },
    {
      "cell_type": "markdown",
      "metadata": {
        "id": "d0wpCZv9NbLh"
      },
      "source": [
        "## 5. Decision Trees\n",
        "\n",
        "> Layman:\n",
        "\n",
        "A decision tree is like any guessing game where you are allowed to ask questions (e.g 20 questions guessing game) before you guess. Your goal is to narrow down you guess by asking great questions. After asking the questions you will have gained enough information to make a guess.\n",
        "\n",
        "> Hiring manager:\n",
        "\n",
        "Decision tree is a non-parametric supervised learning model used for classification or regression problems. It predicts outputs through recursive partitioning of inputs until information gain is optimized.\n",
        "\n",
        "> Programmer:\n",
        "*   Partition a dataset into two \n",
        "*   Repeat step one until information gain is maximized.\n",
        "*   Information gain is measured using gini impurity (p(1-p) or entropy (-p(log2P) -(1-p)log2()-(1-p)log2(1-p)) in classification and MSE in regression.\n",
        "*   [The sklearn code](https://github.com/KevinLolochum/Top-Ten-Machine-Learning-Cheatsheet/blob/main/Random%20Forest.py).\n",
        "\n",
        "\n",
        "\n",
        "\n",
        "\n",
        "\n"
      ]
    }
  ]
}
