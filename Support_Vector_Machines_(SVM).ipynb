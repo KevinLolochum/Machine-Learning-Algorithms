{
  "nbformat": 4,
  "nbformat_minor": 0,
  "metadata": {
    "colab": {
      "name": "Support Vector Machines (SVM)",
      "provenance": [],
      "authorship_tag": "ABX9TyMYH5XxD5htUaR4nw3iBz30",
      "include_colab_link": true
    },
    "kernelspec": {
      "name": "python3",
      "display_name": "Python 3"
    }
  },
  "cells": [
    {
      "cell_type": "markdown",
      "metadata": {
        "id": "view-in-github",
        "colab_type": "text"
      },
      "source": [
        "<a href=\"https://colab.research.google.com/github/KevinLolochum/Top-Ten-Machine-Learning-Cheatsheet/blob/main/Support_Vector_Machines_(SVM).ipynb\" target=\"_parent\"><img src=\"https://colab.research.google.com/assets/colab-badge.svg\" alt=\"Open In Colab\"/></a>"
      ]
    },
    {
      "cell_type": "markdown",
      "metadata": {
        "id": "1AknEUiQqs8S"
      },
      "source": [
        "  ## 8.Support Vector Machine\n",
        "\n",
        "> Layman:\n",
        "\n",
        "SVM is like grouping cars into categories such as MVP, Crossover, Utility, SUV,COnvertible. Sometimes a vehicle can belong to two categories but wil be considered to belong in one. Tesla model 3 can be considered as a luxury car or just a regular car. If it is considered as a luxury car then it can be used as benchmark. Anything above it in price or comfort can be considered a luxury car and anything below is put into other groups, such as hatchbacks, crossover, SUV etc. The cars that serve as benchmarks e.g Model 3 are called support vectors and can help us separate cars into multiple goups. \n",
        "\n",
        "> Hiring manager:\n",
        "\n",
        "SVM Is a discriminative machine learning model that finds a line, curve or manifold that separates features in a dataset into a set number of classes by finding the support vectors that maximize the margin between the clusters.\n",
        "\n",
        "> Programmer:\n"
      ]
    }
  ]
}