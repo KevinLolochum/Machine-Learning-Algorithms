{
  "nbformat": 4,
  "nbformat_minor": 0,
  "metadata": {
    "colab": {
      "name": "Random Forest",
      "provenance": [],
      "authorship_tag": "ABX9TyMva+MjIAr2b77ebIxKHyV3",
      "include_colab_link": true
    },
    "kernelspec": {
      "name": "python3",
      "display_name": "Python 3"
    }
  },
  "cells": [
    {
      "cell_type": "markdown",
      "metadata": {
        "id": "view-in-github",
        "colab_type": "text"
      },
      "source": [
        "<a href=\"https://colab.research.google.com/github/KevinLolochum/Top-Ten-Machine-Learning-Cheatsheet/blob/main/Random_Forest.ipynb\" target=\"_parent\"><img src=\"https://colab.research.google.com/assets/colab-badge.svg\" alt=\"Open In Colab\"/></a>"
      ]
    },
    {
      "cell_type": "markdown",
      "metadata": {
        "id": "FRJvJBouPFul"
      },
      "source": [
        "## 6. Random Forest\n",
        "\n",
        "> Layman:\n",
        "\n",
        "Using the example of guessing game above. Imagine you are good in celebrity guessing and your friend is good at sports history. You can improve your joint score if you focus on what you are good at and your friend does the same. You and your friend are like decision trees, you are not very good apart. But together you are formidable, you are a random forest.\n",
        "\n",
        "> Hiring manager:\n",
        "\n",
        "Random forest is a bagging ensemble method that fits decision trees to samples of the datasets to improve model accuracy and improve generalization through averaging. RandomForestRegressor works for regression problems while RandomForestClassifier works on classification problems.\n",
        "\n",
        "> Programmer:\n",
        "*   Before applying the decision tree alogarithm random forest does a few initial steps.\n",
        "*   Splits dataset into S samples and selects one with replacement(bootstrap).\n",
        "*   For a random split in S select sample of variables(with replacement).\n",
        "*   Apply DT to resulting Sub-sample and repeat as many times as number of estimator parameter and take average accuracy.\n",
        "*   [SKlearn wrapper](https://github.com/KevinLolochum/Top-Ten-Machine-Learning-Cheatsheet/blob/main/Random%20Forest.py).\n",
        "\n",
        "\n",
        "\n",
        "\n",
        "\n",
        "\n",
        "\n",
        "\n"
      ]
    }
  ]
}