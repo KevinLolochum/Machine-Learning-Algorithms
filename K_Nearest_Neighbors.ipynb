{
  "nbformat": 4,
  "nbformat_minor": 0,
  "metadata": {
    "colab": {
      "name": "K-Nearest Neighbors",
      "provenance": [],
      "authorship_tag": "ABX9TyOtjAoi/IliUQOmJT+bIs67",
      "include_colab_link": true
    },
    "kernelspec": {
      "name": "python3",
      "display_name": "Python 3"
    }
  },
  "cells": [
    {
      "cell_type": "markdown",
      "metadata": {
        "id": "view-in-github",
        "colab_type": "text"
      },
      "source": [
        "<a href=\"https://colab.research.google.com/github/KevinLolochum/Top-Ten-Machine-Learning-Cheatsheet/blob/main/K_Nearest_Neighbors.ipynb\" target=\"_parent\"><img src=\"https://colab.research.google.com/assets/colab-badge.svg\" alt=\"Open In Colab\"/></a>"
      ]
    },
    {
      "cell_type": "markdown",
      "metadata": {
        "id": "6Mga8W7SH2tZ"
      },
      "source": [
        "## 4. K Nearest Neighbors (KNN)\n",
        "\n",
        "> Layman:\n",
        "\n",
        "When you go to a bank to apply for a loan, the employee at the bank needs to determine whether you are a likely defaulter or not before approving your request. To do this they ask you a few required questions, such as your annual income. The employee will then look at the banks loan customers database for five customers who had similar answers as yours. If those customers had defaulted then they will classify you as likely to default. This is how K-nearest neighbors works.\n",
        "\n",
        "> Hiring manager:\n",
        "\n",
        "KNN is an unsupervised learning clustering algorithm that can be used for regression and classification problems. To classify each sample, a KNN classifier will search for K sampes which have the most similar features as the input sample then puts sample in the most common classs among the K nearest samples belong to. For regression, KNN finds the average of the predicted values among the K samples.\n",
        "\n",
        "> Programmer:\n",
        "* Calculate the Euclidean or manhattan distance of a point then compare it with that of other points in the training dataset, taking the most similar K.\n",
        "* Use the most popular class among the K points as class for the new point.\n",
        "* [SKlearn wrapper](https://github.com/KevinLolochum/Top-Ten-Machine-Learning-Cheatsheet/blob/main/KNNs.py). Important to standadize the data.\n",
        "\n",
        "\n"
      ]
    }
  ]
}