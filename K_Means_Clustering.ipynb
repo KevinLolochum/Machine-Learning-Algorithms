{
  "nbformat": 4,
  "nbformat_minor": 0,
  "metadata": {
    "colab": {
      "name": "K-Means Clustering",
      "provenance": [],
      "authorship_tag": "ABX9TyN8ULHj482k7lEvlyFOq8YV",
      "include_colab_link": true
    },
    "kernelspec": {
      "name": "python3",
      "display_name": "Python 3"
    }
  },
  "cells": [
    {
      "cell_type": "markdown",
      "metadata": {
        "id": "view-in-github",
        "colab_type": "text"
      },
      "source": [
        "<a href=\"https://colab.research.google.com/github/KevinLolochum/Top-Ten-Machine-Learning-Cheatsheet/blob/main/K_Means_Clustering.ipynb\" target=\"_parent\"><img src=\"https://colab.research.google.com/assets/colab-badge.svg\" alt=\"Open In Colab\"/></a>"
      ]
    },
    {
      "cell_type": "markdown",
      "metadata": {
        "id": "11cPk0t6_cFg"
      },
      "source": [
        "## 10. K-Means Clustering\n",
        "\n",
        "> Layman:\n",
        "\n",
        "\n",
        "Sometimes a business wants to prepare very targeted marketing material to groups of customers to improve conversion(buying). To do this they will first need put the customers into groups (customer segmentation). This segements can be geographic, psychographic or behavioral. K-means can take customer information and create this segments automatically for a business.\n",
        "\n",
        "> Hiring manager:\n",
        "\n",
        "K-means is a type of clustering algorithm that classifies multidimensional data into K number of clusters. The algorithm starts by selecting K centers (means) then allocates each point (sample) to a center based on closeness. The algorithm continues to optimize the selections until all samples are allocated to their optimally closest center.\n",
        "\n",
        "> Programmer:\n",
        "* Starts with a specified K (number of clusters). Assigns each record (Xi, Yi) to a cluster mean based on squared distance.\n",
        "* Calculate within cluster sum of squared errors and reassign to see if SSE will be improved.\n",
        "* Repeat assignment until SSE cannot be improved.\n",
        "* [SKlearn code](https://github.com/KevinLolochum/Top-Ten-Machine-Learning-Cheatsheet/blob/main/K-means.py)\n",
        "\n",
        "\n",
        "\n",
        "\n"
      ]
    }
  ]
}